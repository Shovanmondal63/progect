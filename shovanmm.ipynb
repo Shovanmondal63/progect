{
  "cells": [
    {
      "cell_type": "markdown",
      "metadata": {
        "id": "view-in-github",
        "colab_type": "text"
      },
      "source": [
        "<a href=\"https://colab.research.google.com/github/Shovanmondal63/progect/blob/main/shovanmm.ipynb\" target=\"_parent\"><img src=\"https://colab.research.google.com/assets/colab-badge.svg\" alt=\"Open In Colab\"/></a>"
      ]
    },
    {
      "cell_type": "markdown",
      "metadata": {
        "id": "dqZ-nhxiganh"
      },
      "source": [
        "# Hand Written Digit Prediction - Classification Analysis"
      ]
    },
    {
      "cell_type": "markdown",
      "metadata": {
        "id": "gScHkw6jjrLo"
      },
      "source": [
        "-------------"
      ]
    },
    {
      "cell_type": "markdown",
      "metadata": {
        "id": "r7GrZzX0iTlV"
      },
      "source": [
        "## **Import Library**"
      ]
    },
    {
      "cell_type": "code",
      "execution_count": 1,
      "metadata": {
        "id": "PWeEbYZnjz0U",
        "colab": {
          "base_uri": "https://localhost:8080/",
          "height": 314
        },
        "outputId": "9ffe2da8-3f90-4f7d-82e5-890fd665fe51"
      },
      "outputs": [
        {
          "output_type": "error",
          "ename": "ModuleNotFoundError",
          "evalue": "No module named 'panda'",
          "traceback": [
            "\u001b[0;31m---------------------------------------------------------------------------\u001b[0m",
            "\u001b[0;31mModuleNotFoundError\u001b[0m                       Traceback (most recent call last)",
            "\u001b[0;32m<ipython-input-1-f542dbfa5144>\u001b[0m in \u001b[0;36m<cell line: 1>\u001b[0;34m()\u001b[0m\n\u001b[0;32m----> 1\u001b[0;31m \u001b[0;32mimport\u001b[0m \u001b[0mpanda\u001b[0m \u001b[0;32mas\u001b[0m \u001b[0mpd\u001b[0m\u001b[0;34m\u001b[0m\u001b[0;34m\u001b[0m\u001b[0m\n\u001b[0m",
            "\u001b[0;31mModuleNotFoundError\u001b[0m: No module named 'panda'",
            "",
            "\u001b[0;31m---------------------------------------------------------------------------\u001b[0;32m\nNOTE: If your import is failing due to a missing package, you can\nmanually install dependencies using either !pip or !apt.\n\nTo view examples of installing some common dependencies, click the\n\"Open Examples\" button below.\n\u001b[0;31m---------------------------------------------------------------------------\u001b[0m\n"
          ],
          "errorDetails": {
            "actions": [
              {
                "action": "open_url",
                "actionText": "Open Examples",
                "url": "/notebooks/snippets/importing_libraries.ipynb"
              }
            ]
          }
        }
      ],
      "source": [
        "import panda as pd"
      ]
    },
    {
      "cell_type": "code",
      "execution_count": 2,
      "metadata": {
        "id": "Jl8O0mLKjz0V"
      },
      "outputs": [],
      "source": [
        "import numpy as np"
      ]
    },
    {
      "cell_type": "code",
      "execution_count": 3,
      "metadata": {
        "id": "UkK6NH9DiW-X"
      },
      "outputs": [],
      "source": [
        "import matplotlib.pyplot as plt"
      ]
    },
    {
      "cell_type": "markdown",
      "metadata": {
        "id": "9lHPQj1XiOUc"
      },
      "source": [
        "## **Import Data**"
      ]
    },
    {
      "cell_type": "code",
      "execution_count": null,
      "metadata": {
        "id": "n8GmzHCljz0X"
      },
      "outputs": [],
      "source": [
        "_, axes plt.subplots (nrows=1, ncols=4, figsize=(10, 3))"
      ]
    },
    {
      "cell_type": "code",
      "execution_count": null,
      "metadata": {
        "id": "kcm8Fl1Yjz0X"
      },
      "outputs": [],
      "source": [
        "for ax, image, label in zip(axes, df.images, df.target):"
      ]
    },
    {
      "cell_type": "code",
      "execution_count": null,
      "metadata": {
        "id": "zcU1fdnGho6M"
      },
      "outputs": [],
      "source": [
        "ax.set_axis_off() ax.imshow(image, cmap-plt.cm.gray_r, interpolation=\"nearest\") ax.set_title(\"Training: %i\" % label)\n"
      ]
    },
    {
      "cell_type": "markdown",
      "metadata": {
        "id": "UqfyPOCYiiww"
      },
      "source": [
        "## **Data Preprocessing**"
      ]
    },
    {
      "cell_type": "code",
      "execution_count": null,
      "metadata": {
        "id": "3cyr3fbGin0A"
      },
      "outputs": [],
      "source": [
        "df.images.shape\n",
        "(1797,8,8)"
      ]
    },
    {
      "cell_type": "code",
      "execution_count": null,
      "metadata": {
        "id": "qC8BnqRvjz0a"
      },
      "outputs": [],
      "source": [
        "df.images[0]\n",
        "\n",
        "array([[ 0., 0, 50, 139, 1., [ 0., 0],\n",
        "0., 0., 13., 15., 10., 15., 5., 0.],\n",
        "[ 0., 3., 15., 2., 0., 11., 8., 0.],\n",
        "[0., 4., 12., 0., 0., 8., 8., 9.], [0., 5., 8., 0., 0., 9., 8., 0.],\n",
        "[Θ., 4., 11., 0., 1., 12., 7., 8.1,\n",
        "[0., 2., 14., 5., 10., 12., 0., 0.1,\n",
        "[0., 0., 6., 13., 10., 0., 0., 0.]])"
      ]
    },
    {
      "cell_type": "code",
      "execution_count": null,
      "metadata": {
        "id": "qFS9GcqGjz0a"
      },
      "outputs": [],
      "source": [
        "df.images[0].shape\n",
        "    (8, 8)"
      ]
    },
    {
      "cell_type": "code",
      "execution_count": null,
      "metadata": {
        "id": "HSnAOrf_jz0b"
      },
      "outputs": [],
      "source": [
        "len(df.images)\n",
        "    1797"
      ]
    },
    {
      "cell_type": "code",
      "execution_count": null,
      "metadata": {
        "id": "7GpKx60Kjz0c"
      },
      "outputs": [],
      "source": [
        "n_samples - len(df.images)\n",
        "data df.images.reshape((n_samples, -1))"
      ]
    },
    {
      "cell_type": "code",
      "execution_count": null,
      "metadata": {
        "id": "3cO8zycpjz0c"
      },
      "outputs": [],
      "source": [
        "data[0]\n",
        "\n",
        "array ([0., 0., 5., 13., 9., 1., 0., 0., 0., 15., 5., 0., 0., 12., 0., 0., 8., 0., 0., 4., 11., 3., 15., 2., 0., 11., 8., 0., 0., 5., 8., 0., 1., 12., 7., 0., 10., 12., 0., 0., 0., 0., 6., 13., 10., 0., 13., 15., 10., 8., 0., 0., 4., 0., 0., 0., 9., 8., 2., 14., 5., 0., 0., 0.])"
      ]
    },
    {
      "cell_type": "code",
      "execution_count": null,
      "metadata": {
        "id": "tGJ40Fowjz0d"
      },
      "outputs": [],
      "source": [
        "datd[0].shape\n",
        "    (64,)"
      ]
    },
    {
      "cell_type": "code",
      "execution_count": null,
      "metadata": {
        "id": "9EB0kgMajz0d"
      },
      "outputs": [],
      "source": [
        "data.shape\n",
        "(1797, 64)"
      ]
    },
    {
      "cell_type": "markdown",
      "metadata": {
        "id": "2jXJpdAuiwYW"
      },
      "source": [
        "# Scaling Image Dat"
      ]
    },
    {
      "cell_type": "code",
      "execution_count": null,
      "metadata": {
        "id": "QBCakTuli57t"
      },
      "outputs": [],
      "source": [
        "data.min()\n",
        "    0.0"
      ]
    },
    {
      "cell_type": "code",
      "execution_count": null,
      "metadata": {
        "id": "8TFVZS1kjz0f"
      },
      "outputs": [],
      "source": [
        "data.max()\n",
        "    16.0"
      ]
    },
    {
      "cell_type": "code",
      "execution_count": null,
      "metadata": {
        "id": "lM0Q9QRnjz0f"
      },
      "outputs": [],
      "source": [
        "data = data/16"
      ]
    },
    {
      "cell_type": "code",
      "execution_count": null,
      "metadata": {
        "id": "LT_9TMRQjz0f"
      },
      "outputs": [],
      "source": [
        "data.min()\n",
        "    0.0"
      ]
    },
    {
      "cell_type": "code",
      "execution_count": null,
      "metadata": {
        "id": "1SamsGr7jz0f"
      },
      "outputs": [],
      "source": [
        "data.max()\n",
        "    1.0"
      ]
    },
    {
      "cell_type": "code",
      "execution_count": null,
      "metadata": {
        "id": "aq5nN851jz0g"
      },
      "outputs": [],
      "source": [
        "data[0]\n",
        "array ([0. 0. 0. 0. 0.3125, 0.8125, 0.5625, 0.0625, 0. 0.8125, 0.9375, 0.625, 0.9375, 0.3125, 0.\n",
        "\n",
        "0. 0. 0.1875, 0.9375, 0.125, 0. , 0.6875, 0.5 0.25 0.75 0. 0. 0.5 0.5 0\n",
        "\n",
        "0.\n",
        "\n",
        "0\n",
        "\n",
        "0.\n",
        "\n",
        "0.\n",
        "\n",
        "0.\n",
        "\n",
        "0.5625, 0.5\n",
        "\n",
        "0.3125, 0.5 0. , 0.6875, 0. 0. , 0.0625, 0.75 , 0.4375, 0.\n",
        "\n",
        "0.25 0.125 0.875, 0.3125, 0.625 0.75, 0.\n",
        "\n",
        "0.\n",
        "\n",
        "0 0. , 0.375, 0.8125, 0.625 0. , 0. , 0. ])"
      ]
    },
    {
      "cell_type": "markdown",
      "metadata": {
        "id": "90_0q_Pbi658"
      },
      "source": [
        "# Train Test Split Data"
      ]
    },
    {
      "cell_type": "code",
      "execution_count": null,
      "metadata": {
        "id": "u60YYaOFi-Dw"
      },
      "outputs": [],
      "source": [
        "from sklearn.model_selection import train_test_split"
      ]
    },
    {
      "cell_type": "code",
      "execution_count": null,
      "metadata": {
        "id": "qvdm4wsYjz0g"
      },
      "outputs": [],
      "source": [
        "X_train, X_test, y_train, y_test = train_test_split(data, df.target, test_size=0.3)"
      ]
    },
    {
      "cell_type": "code",
      "execution_count": null,
      "metadata": {
        "id": "m_PgHEXljz0h"
      },
      "outputs": [],
      "source": [
        " X_train.shape, X_test.shape, y_train.shape, y_test.shape\n",
        "((1257, 64), (540, 64), (1257,), (540,))"
      ]
    },
    {
      "cell_type": "markdown",
      "metadata": {
        "id": "cIhyseNria7W"
      },
      "source": [
        "## **Random Forest Model**"
      ]
    },
    {
      "cell_type": "code",
      "execution_count": null,
      "metadata": {
        "id": "Toq58wpkjCw7"
      },
      "outputs": [],
      "source": [
        "from sklearn.ensemble import Random ForestClassifier Os\n"
      ]
    },
    {
      "cell_type": "code",
      "execution_count": null,
      "metadata": {
        "id": "SO0NXUT-jz0h"
      },
      "outputs": [],
      "source": [
        "rf Random ForestClassifier()"
      ]
    },
    {
      "cell_type": "code",
      "execution_count": null,
      "metadata": {
        "id": "xnAWO1jnjz0i"
      },
      "outputs": [],
      "source": [
        " rf.fit(X_train, y_train)\n",
        "Random ForestClassifier()"
      ]
    },
    {
      "cell_type": "markdown",
      "metadata": {
        "id": "vhAwWfG0jFun"
      },
      "source": [
        "## **Model Evaluation**"
      ]
    },
    {
      "cell_type": "code",
      "execution_count": null,
      "metadata": {
        "id": "lND3jJj_jhx4"
      },
      "outputs": [],
      "source": [
        "y_pred- rf.predict(X_test)\n"
      ]
    },
    {
      "cell_type": "code",
      "execution_count": null,
      "metadata": {
        "id": "1TN28qk6jz0i"
      },
      "outputs": [],
      "source": [
        " y_pred\n",
        "array ([6, 5, 2, 6, 8, 8, 2, 7, 5, 1, 1, 4, 3, 7, 2, 0, 0, 7, 0, 2, 5, 3, 2, 5, 2, 7, 5, 9, 1, 8, 3, 3, 1, 1, 8, 4, 0, 4, 2, 1, 3, 1, 6, 9, 8, 8, 6, 7, 5, 4, 3, 8, 5, 0, 6, 0, 7, 1, 1, 1, 6, 1, 9, 3, 8, 8, 8, 1, 5, 8, 6, 0, 3, 7, 1, 6, 3, 6, 2, 3, 9, 3, 4, 1, 6, 7, 0, 3, 0, 1, 2, 5, 9, 3, 5, 6, 8, 3, 5, 4, 8, 4, 1, 9, 1, 1, 3, 3, 9, 7, 2, 9, 6, 2, 7, 8, 6, 9, 9, 3, 5, 4, 4, 6, 6, 3, 7, 2, 7, 3, 2, 8, 8, 2, 4, 8, 2, 5, 9, 5, 7, 6, 4, 2, 6, 6, 1, 5, 0, 0, 4, 5, 1, 6, 3, 1, 2, 7, 3, 7, 8, 6, 9, 9, 6, 7, 1, 4, 2, 6, 7, 5, 6,7, 5, 2, 2, 8, 5, 6, 2, 8, 9, 4, 8, 9, 1, 6, 3, 9, 8, 8, 9, 5, 8. 7, 8, 4, 7, 1, 1, 1, 2, 9,7,0,0,6, 3, 4, 5, 3 3, 6, 1, 9, 0, 5, 1, 2, 5, 0, 0, 2, 9, 6, 1, 3, 1, 5, 8, 9, 3, 6, 0, 6, 7, 2, 7, 2, 4, 6, 1, 5, 0, 7, 1, 6, 1, 1, 3,2,2, 8,3, 2, 9,5, 0, 9, 0, 1, 0, 1, 2, 2, 9, 1, 8, 6, 5, 6, 4, 2, 6, 9, 5, 5, 2, 5, 0, 6, 1, 2, 0, 5, 3, 8, 7, 5, 1, 8, 9, 8, 1, 2. 1, 9, 1, 2, 2, 8, 5. 9, 3, 1, 5, 8, 5, 7, 2, 2, 6, 5, 2, 4, 9, 7, 3, 8, 5, 2, 9, 2, 3, 4, 8, 5, 7, 7, 4, 0, 0, 1, 9, 2, 1, 6, 7,\n",
        "2, 0, 5, 8, 9, 4, 8, 5, 5, 7, 9, 31)"
      ]
    },
    {
      "cell_type": "markdown",
      "metadata": {
        "id": "8AzwG7oLjiQI"
      },
      "source": [
        "## **Model Accuracy**"
      ]
    },
    {
      "cell_type": "code",
      "execution_count": null,
      "metadata": {
        "id": "JLebGzDJjknA"
      },
      "outputs": [],
      "source": [
        "from sklearn.metrics import confusion_matrix, classification_report\n",
        "\n",
        "✓[30] confusion_matrix(y_test, y_pred)\n",
        "\n",
        "array([[60, 0, 0, 1, 0, 0, 0], 0],\n",
        "\n",
        "[0, 60, [0, 0, 61, 0, 0, 0, 0, 0, 1],\n",
        "\n",
        "[0, 0, 0, 54, 0, 0, 0, 1, [0, 0, 0, 0, 40, 0, 0, 1, 0], 0],\n",
        "\n",
        "[0, 0, 0, 0, 0, 58, 1, 0, 1, 0],\n",
        "\n",
        "[0, 1, 0, 0, 0, 50, 0, 0, 0],\n",
        "\n",
        "[0, 0, 0, 8, 52, 0, 0), 0, 46, 0],\n",
        "\n",
        "[0, 2. [0, 0 0 0, 1, 0, 45]])"
      ]
    },
    {
      "cell_type": "code",
      "execution_count": null,
      "metadata": {
        "id": "X_O00ybPjz0k"
      },
      "outputs": [],
      "source": [
        "print(classification_report(y_test, y_pred))\n",
        "\n",
        "precision\n",
        "\n",
        "recall fl-score support\n",
        "\n",
        "(x)\n",
        "\n",
        "0\n",
        "\n",
        "1.00\n",
        "\n",
        "0.98\n",
        "\n",
        "0.99\n",
        "\n",
        "61\n",
        "\n",
        "1\n",
        "\n",
        "0.95\n",
        "\n",
        "0.98\n",
        "\n",
        "0.97\n",
        "\n",
        "61\n",
        "\n",
        "2\n",
        "\n",
        "1.00\n",
        "\n",
        "0.98\n",
        "\n",
        "0.99\n",
        "\n",
        "62\n",
        "\n",
        "3\n",
        "\n",
        "0.98\n",
        "\n",
        "0.98\n",
        "\n",
        "0.98\n",
        "\n",
        "55\n",
        "\n",
        "4\n",
        "\n",
        "0.93\n",
        "\n",
        "0.98\n",
        "\n",
        "0.95\n",
        "\n",
        "41\n",
        "\n",
        "5\n",
        "\n",
        "0.98\n",
        "\n",
        "0.97\n",
        "\n",
        "0.97\n",
        "\n",
        "60\n",
        "\n",
        "6\n",
        "\n",
        "0.98\n",
        "\n",
        "0.96\n",
        "\n",
        "0.97\n",
        "\n",
        "52\n",
        "\n",
        "7\n",
        "\n",
        "0.95\n",
        "\n",
        "1.00\n",
        "\n",
        "0.97\n",
        "\n",
        "52\n",
        "\n",
        "8\n",
        "\n",
        "0.98\n",
        "\n",
        "0.92\n",
        "\n",
        "0.95\n",
        "\n",
        "50\n",
        "\n",
        "७\n",
        "\n",
        "0.98\n",
        "\n",
        "0.98\n",
        "\n",
        "0.98\n",
        "\n",
        "46\n",
        "\n",
        "0.97\n",
        "\n",
        "540\n",
        "\n",
        "accuracy\n",
        "\n",
        "macro avg\n",
        "\n",
        "0.97\n",
        "\n",
        "0.97\n",
        "\n",
        "0.97\n",
        "\n",
        "540\n",
        "\n",
        "Weighted avg\n",
        "\n",
        "0.97\n",
        "\n",
        "0.97\n",
        "\n",
        "0.97\n",
        "\n",
        "540"
      ]
    }
  ],
  "metadata": {
    "colab": {
      "provenance": [],
      "include_colab_link": true
    },
    "kernelspec": {
      "display_name": "Python 3",
      "name": "python3"
    },
    "language_info": {
      "name": "python"
    }
  },
  "nbformat": 4,
  "nbformat_minor": 0
}